{
 "cells": [
  {
   "cell_type": "code",
   "execution_count": 38,
   "id": "e6924eac",
   "metadata": {},
   "outputs": [],
   "source": [
    "import pandas as pd\n",
    "import numpy as np\n",
    "import pickle\n",
    "from pandas_profiling import ProfileReport\n",
    "import matplotlib.pyplot as plt\n",
    "import logging as lg\n",
    "from sklearn.model_selection import train_test_split\n",
    "from sklearn.preprocessing import StandardScaler\n",
    "from sklearn.linear_model import LinearRegression"
   ]
  },
  {
   "cell_type": "code",
   "execution_count": 32,
   "id": "8182aeb2",
   "metadata": {},
   "outputs": [],
   "source": [
    "lg.basicConfig(filename='a141.txt', format='%(name)s - %(levelname)s - %(message)s')"
   ]
  },
  {
   "cell_type": "code",
   "execution_count": 92,
   "id": "ec4c0186",
   "metadata": {},
   "outputs": [],
   "source": [
    "class A14I:\n",
    "    def __init__(self, file_path):\n",
    "        self.file_path = file_path\n",
    "        \n",
    "    def read_data(self):\n",
    "        try:\n",
    "            self.logging_info(\"Reading data..\")\n",
    "            self.dataframe = pd.read_csv(self.file_path)\n",
    "            self.logging_info('Reading data complete..')\n",
    "        except Exception as e:\n",
    "            self.logging_error('An error has occured. Error: '+str(e))\n",
    "            print(e)\n",
    "    \n",
    "    def show_data(self):\n",
    "        try:\n",
    "            self.logging_info('Showing data..')\n",
    "            print(self.dataframe.head())\n",
    "        except Exception as e:\n",
    "            self.logging_error('An error has occured while showing data. Error: ' + str(e))\n",
    "            print(e)\n",
    "            \n",
    "    def pandas_profiling(self):\n",
    "        try:\n",
    "            self.logging_info('Performing Pandas profiling..')\n",
    "            self.dataframe.profile_report().to_widgets()\n",
    "            self.logging_info('Pandas profiling report generated..')\n",
    "        except Exception as e:\n",
    "            self.logging_error('An error has occured while doing pandas profiling. Error: ' + str(e))\n",
    "            print(e)\n",
    "    \n",
    "    def transform_data(self, cols):\n",
    "        try:\n",
    "            self.logging_info('Transforming data')\n",
    "            self.dataframe[cols] = np.log1p(self.dataframe[cols])\n",
    "            \n",
    "        except Exception as e:\n",
    "            self.logging_error('An error occured while transforming data. Error: ' + str(e))\n",
    "            print(e)\n",
    "            \n",
    "    def data_split(self, cols):\n",
    "        try:\n",
    "            self.logging_info('Splitting data into train test split')\n",
    "            x = self.dataframe.drop(cols, axis=1)\n",
    "            y = self.dataframe[['Air temperature [K]']]\n",
    "            self.X_train, self.X_test, self.y_train, self.y_test = train_test_split(x, y, test_size=0.3, random_state=42)\n",
    "            self.logging_info('Splitting data into train test split complete..')\n",
    "        except Exception as e:\n",
    "            self.logging_error('An error has occured in data splitting. Error: ' + str(e))\n",
    "            print(e)\n",
    "       \n",
    "    def scale_data(self, cols):\n",
    "        try:\n",
    "            self.logging_info('scaling data')\n",
    "            self.scaler = StandardScaler()\n",
    "            self.X_train[cols] = self.scaler.fit_transform(self.X_train[cols])\n",
    "            self.X_test[cols] = self.scaler.transform(self.X_test[cols])\n",
    "            self.X_train = np.array(self.X_train)\n",
    "            self.X_test = np.array(self.X_test)\n",
    "            print(self.X_train)\n",
    "            self.logging_info('Scaling data complete..')\n",
    "        except Exception as e:\n",
    "            self.logging_error('An error has occured while scalinf data. Error: ' + str(e))\n",
    "            print(e)\n",
    "    \n",
    "    def train_model(self):\n",
    "        try:\n",
    "            self.logging_info('Training model') \n",
    "            self.linear = LinearRegression()\n",
    "            self.linear.fit(self.X_train, self.y_train)\n",
    "            self.logging_info('Training complete')\n",
    "        except Exception as e:\n",
    "            self.logging_error('An error has occured while training model. Error: ' + str(e))\n",
    "            print(e)\n",
    "    \n",
    "    def get_accuracy(self):\n",
    "        try:\n",
    "            self.logging_info('Getting accuracy of the model')\n",
    "            print('Training Score: ', self.linear.score(self.X_train, self.y_train))\n",
    "            print('Testing Score: ', self.linear.score(self.X_test, self.y_test))\n",
    "        except Exception as e:\n",
    "            self.logging_error('An error has occured while getting accuracy of model. Error: ' + str(e))\n",
    "            print(e)\n",
    "            \n",
    "    def save_model(self):\n",
    "        try:\n",
    "            self.logging_info('Saving the final model')\n",
    "            with open('linear_regressor.sav','wb') as f:\n",
    "                pickle.dump(self.linear, f)\n",
    "                \n",
    "            with open('standard_scaler.sav','wb') as f:\n",
    "                pickle.dump(self.scaler, f)\n",
    "            self.logging_info('Model saved')\n",
    "        except Exception as e:\n",
    "            self.logging_error('An error has occured while sving model. error: ' + str(e))\n",
    "            print(e)\n",
    "            \n",
    "    def test_cases(self, cols, scale):\n",
    "        try:\n",
    "            regressor = None\n",
    "            scaler = None\n",
    "            with open('linear_regressor.sav','rb') as f:\n",
    "                regressor = pickle.load(f)\n",
    "            with open('standard_scaler.sav','rb') as f:\n",
    "                scaler = pickle.load(f)\n",
    "            self.dataframe = self.dataframe.sample(n = 10).drop(cols, axis=1)\n",
    "            x = self.dataframe.drop('Air temperature [K]', axis=1)\n",
    "            y = self.dataframe[['Air temperature [K]']]\n",
    "            x[scale] = scaler.transform(x[scale])\n",
    "            y_pred = regressor.predict(x)\n",
    "            print('Predicted      Original')\n",
    "            for i in range(len(y_pred)):\n",
    "                print(y_pred[i], y.iloc[i,:].values[0])\n",
    "\n",
    "        except Exception as e:\n",
    "            self.logging_error('An error has occured while testing model. Error: ' + str(e))\n",
    "            print(e)\n",
    "            \n",
    "    def logging_info(self, message):\n",
    "        try:\n",
    "            lg.info(message)\n",
    "        except Exception as e:\n",
    "            print(e)\n",
    "    \n",
    "    def logging_error(self, message):\n",
    "        try:\n",
    "            lg.error(message)\n",
    "        except Exception as e:\n",
    "            print(e)"
   ]
  },
  {
   "cell_type": "code",
   "execution_count": 93,
   "id": "d4d59fe7",
   "metadata": {},
   "outputs": [
    {
     "name": "stdout",
     "output_type": "stream",
     "text": [
      "   UDI Product ID Type  Air temperature [K]  Process temperature [K]  \\\n",
      "0    1     M14860    M                298.1                    308.6   \n",
      "1    2     L47181    L                298.2                    308.7   \n",
      "2    3     L47182    L                298.1                    308.5   \n",
      "3    4     L47183    L                298.2                    308.6   \n",
      "4    5     L47184    L                298.2                    308.7   \n",
      "\n",
      "   Rotational speed [rpm]  Torque [Nm]  Tool wear [min]  Machine failure  TWF  \\\n",
      "0                    1551         42.8                0                0    0   \n",
      "1                    1408         46.3                3                0    0   \n",
      "2                    1498         49.4                5                0    0   \n",
      "3                    1433         39.5                7                0    0   \n",
      "4                    1408         40.0                9                0    0   \n",
      "\n",
      "   HDF  PWF  OSF  RNF  \n",
      "0    0    0    0    0  \n",
      "1    0    0    0    0  \n",
      "2    0    0    0    0  \n",
      "3    0    0    0    0  \n",
      "4    0    0    0    0  \n"
     ]
    }
   ],
   "source": [
    "obj = A14I('ai4i2020.csv')\n",
    "obj.read_data()\n",
    "obj.show_data()"
   ]
  },
  {
   "cell_type": "code",
   "execution_count": 35,
   "id": "5e25d8be",
   "metadata": {},
   "outputs": [
    {
     "data": {
      "application/vnd.jupyter.widget-view+json": {
       "model_id": "36ec28c5f4e84d36942f20ee8aa81974",
       "version_major": 2,
       "version_minor": 0
      },
      "text/plain": [
       "Summarize dataset:   0%|          | 0/27 [00:00<?, ?it/s]"
      ]
     },
     "metadata": {},
     "output_type": "display_data"
    },
    {
     "data": {
      "application/vnd.jupyter.widget-view+json": {
       "model_id": "c54bbfc8f369471e951327163c088b43",
       "version_major": 2,
       "version_minor": 0
      },
      "text/plain": [
       "Generate report structure:   0%|          | 0/1 [00:00<?, ?it/s]"
      ]
     },
     "metadata": {},
     "output_type": "display_data"
    },
    {
     "data": {
      "application/vnd.jupyter.widget-view+json": {
       "model_id": "",
       "version_major": 2,
       "version_minor": 0
      },
      "text/plain": [
       "Render widgets:   0%|          | 0/1 [00:00<?, ?it/s]"
      ]
     },
     "metadata": {},
     "output_type": "display_data"
    },
    {
     "data": {
      "application/vnd.jupyter.widget-view+json": {
       "model_id": "cb42eaf99e9b49f7addc5bf14b66d711",
       "version_major": 2,
       "version_minor": 0
      },
      "text/plain": [
       "VBox(children=(Tab(children=(Tab(children=(GridBox(children=(VBox(children=(GridspecLayout(children=(HTML(valu…"
      ]
     },
     "metadata": {},
     "output_type": "display_data"
    }
   ],
   "source": [
    "obj.pandas_profiling()"
   ]
  },
  {
   "cell_type": "markdown",
   "id": "c4738525",
   "metadata": {},
   "source": [
    "## Observations\n",
    "- Air Temperature: \n",
    "\n",
    "    No missing values\n",
    "    \n",
    "    Has a mean of 300.00493\n",
    "    \n",
    "    Standard Deviation of 2.000258683\n",
    "    \n",
    "    Highly Possitive Correlatation with Process Temperature\n",
    "    \n",
    "    Is rougly normally distributed\n",
    "   \n",
    "   \n",
    "- Process Temperature:\n",
    "    \n",
    "    No missing values\n",
    "    \n",
    "    Has a mean of 310.00556\n",
    "    \n",
    "    Standard Deviation of 1.483734219\n",
    "    \n",
    "    Highly Possitive Correlatation with Air Temperature\n",
    "    \n",
    "    Is roughly normally distributed\n",
    "    \n",
    "    \n",
    "- Rotational Speed:\n",
    "    \n",
    "    No missing values\n",
    "    \n",
    "    Has a mean of 1538.7761\n",
    "    \n",
    "    Standard Deviation of 179.2840959\n",
    "    \n",
    "    Has high correlation negative correlation with Torque\n",
    "    \n",
    "    Is normally distributed\n",
    "    \n",
    "    with a slight positive skewness\n",
    "    \n",
    "    \n",
    "- Torque:\n",
    "\n",
    "    No missing value\n",
    "    \n",
    "    Has a mean of 39.98691\n",
    "    \n",
    "    Standard Deviation of 9.968933725\n",
    "    \n",
    "    Has high correlation negative correlation with Rotational Speed\n",
    "    \n",
    "    Is normally distributed\n",
    "    \n",
    "    \n",
    "- Tool wear:\n",
    "    \n",
    "    No missing value\n",
    "    \n",
    "    Has a mean of 107.951\n",
    "    \n",
    "    Standard Deviation of 63.65414664\n",
    "    \n",
    "    Does't has any noticable correlation\n",
    "    \n",
    "    Not normally distributed\n",
    "    \n",
    "    \n",
    "- Machine Failure:\n",
    "\n",
    "    3.4%(339 out of 10000) of the times the machine has failed.\n",
    "   \n",
    "   \n",
    "- TWF:\n",
    "\n",
    "    no missing value\n",
    "    \n",
    "    very few times times failed due to this\n",
    "    \n",
    "    has medium correlation with Machine Failure\n",
    "    \n",
    "    \n",
    "- HDF:\n",
    "\n",
    "    no missing value\n",
    "    \n",
    "    very few times times failed due to this"
   ]
  },
  {
   "cell_type": "code",
   "execution_count": 44,
   "id": "bc766f3c",
   "metadata": {},
   "outputs": [
    {
     "name": "stdout",
     "output_type": "stream",
     "text": [
      "Training Score:  0.7787362531479851\n",
      "Testing Score:  0.7683008770776208\n"
     ]
    }
   ],
   "source": [
    "# With all data\n",
    "obj.data_split(['UDI', 'Product ID', 'Type'])\n",
    "obj.scale_data()\n",
    "obj.train_model()\n",
    "obj.get_accuracy()"
   ]
  },
  {
   "cell_type": "markdown",
   "id": "61e8be4a",
   "metadata": {},
   "source": [
    "## Transforming Tool wear [min] using log"
   ]
  },
  {
   "cell_type": "code",
   "execution_count": 56,
   "id": "132d3a4b",
   "metadata": {},
   "outputs": [
    {
     "data": {
      "application/vnd.jupyter.widget-view+json": {
       "model_id": "a2f0b7a572764d4b877658450a20f625",
       "version_major": 2,
       "version_minor": 0
      },
      "text/plain": [
       "Summarize dataset:   0%|          | 0/27 [00:00<?, ?it/s]"
      ]
     },
     "metadata": {},
     "output_type": "display_data"
    },
    {
     "data": {
      "application/vnd.jupyter.widget-view+json": {
       "model_id": "92890c84e63c4d459e632bac3c944cf7",
       "version_major": 2,
       "version_minor": 0
      },
      "text/plain": [
       "Generate report structure:   0%|          | 0/1 [00:00<?, ?it/s]"
      ]
     },
     "metadata": {},
     "output_type": "display_data"
    },
    {
     "data": {
      "application/vnd.jupyter.widget-view+json": {
       "model_id": "",
       "version_major": 2,
       "version_minor": 0
      },
      "text/plain": [
       "Render widgets:   0%|          | 0/1 [00:00<?, ?it/s]"
      ]
     },
     "metadata": {},
     "output_type": "display_data"
    },
    {
     "data": {
      "application/vnd.jupyter.widget-view+json": {
       "model_id": "afe3f42cd6fb43bd8ef552798a60f3c2",
       "version_major": 2,
       "version_minor": 0
      },
      "text/plain": [
       "VBox(children=(Tab(children=(Tab(children=(GridBox(children=(VBox(children=(GridspecLayout(children=(HTML(valu…"
      ]
     },
     "metadata": {},
     "output_type": "display_data"
    }
   ],
   "source": [
    "\n",
    "obj.transform_data(['Tool wear [min]'])\n",
    "obj.pandas_profiling()"
   ]
  },
  {
   "cell_type": "markdown",
   "id": "37979fc0",
   "metadata": {},
   "source": [
    "## Even after scaling can't see any relation between Tool wear [min] and Air temperature [K]"
   ]
  },
  {
   "cell_type": "code",
   "execution_count": 58,
   "id": "678f11cc",
   "metadata": {},
   "outputs": [
    {
     "name": "stdout",
     "output_type": "stream",
     "text": [
      "Training Score:  0.7787213636314864\n",
      "Testing Score:  0.7683146095692723\n"
     ]
    }
   ],
   "source": [
    "# After removing Tool wear\n",
    "obj.data_split(['UDI', 'Product ID', 'Type', 'Air temperature [K]', 'Tool wear [min]'])\n",
    "obj.scale_data()\n",
    "obj.train_model()\n",
    "obj.get_accuracy()"
   ]
  },
  {
   "cell_type": "markdown",
   "id": "a2d62be5",
   "metadata": {},
   "source": [
    "## Rotational speed is showing high signs of multicolinearity and is event contributing much towards Air temperature [K]"
   ]
  },
  {
   "cell_type": "code",
   "execution_count": 94,
   "id": "41564eae",
   "metadata": {},
   "outputs": [
    {
     "name": "stdout",
     "output_type": "stream",
     "text": [
      "[[-1.21373792 -1.19891696  0.         ...  0.          0.\n",
      "   0.        ]\n",
      " [-0.54272491  0.61807336  0.         ...  0.          0.\n",
      "   0.        ]\n",
      " [ 1.33611152  2.06567554  0.         ...  0.          0.\n",
      "   0.        ]\n",
      " ...\n",
      " [ 1.53741543  0.70792453  0.         ...  0.          0.\n",
      "   0.        ]\n",
      " [-2.08605484 -0.74966111  0.         ...  0.          0.\n",
      "   0.        ]\n",
      " [ 0.2624907  -1.42853662  0.         ...  0.          0.\n",
      "   0.        ]]\n",
      "Training Score:  0.7786319613182082\n",
      "Testing Score:  0.7683507979018429\n"
     ]
    }
   ],
   "source": [
    "# After removing Rotational speed & Tool wear\n",
    "obj.data_split(['UDI', 'Product ID', 'Type', 'Air temperature [K]', 'Tool wear [min]', 'Rotational speed [rpm]'])\n",
    "obj.scale_data(['Process temperature [K]', 'Torque [Nm]'])\n",
    "obj.train_model()\n",
    "obj.get_accuracy()"
   ]
  },
  {
   "cell_type": "code",
   "execution_count": 91,
   "id": "be79e3d7",
   "metadata": {},
   "outputs": [],
   "source": [
    "obj.save_model()"
   ]
  },
  {
   "cell_type": "markdown",
   "id": "f4cf0f90",
   "metadata": {},
   "source": [
    "# we can see accuracy increased after removing Rotational speed & Tool wear"
   ]
  },
  {
   "cell_type": "code",
   "execution_count": 83,
   "id": "44794250",
   "metadata": {},
   "outputs": [
    {
     "name": "stdout",
     "output_type": "stream",
     "text": [
      "Predicted      Original\n",
      "[299.54563674] 300.7\n",
      "[298.55581453] 297.5\n",
      "[303.0124882] 303.1\n",
      "[302.46529148] 303.6\n",
      "[302.06319191] 302.4\n",
      "[301.03325926] 301.4\n",
      "[301.74753606] 302.2\n",
      "[298.19615413] 297.3\n",
      "[298.92643258] 298.8\n",
      "[299.25582898] 299.9\n"
     ]
    }
   ],
   "source": [
    "obj.test_cases(['UDI', 'Product ID', 'Type', 'Tool wear [min]', 'Rotational speed [rpm]'])"
   ]
  },
  {
   "cell_type": "code",
   "execution_count": null,
   "id": "a111df07",
   "metadata": {},
   "outputs": [],
   "source": []
  }
 ],
 "metadata": {
  "kernelspec": {
   "display_name": "Python 3",
   "language": "python",
   "name": "python3"
  },
  "language_info": {
   "codemirror_mode": {
    "name": "ipython",
    "version": 3
   },
   "file_extension": ".py",
   "mimetype": "text/x-python",
   "name": "python",
   "nbconvert_exporter": "python",
   "pygments_lexer": "ipython3",
   "version": "3.8.8"
  }
 },
 "nbformat": 4,
 "nbformat_minor": 5
}
